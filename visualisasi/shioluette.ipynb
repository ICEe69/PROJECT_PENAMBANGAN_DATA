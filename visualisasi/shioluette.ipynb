{
 "cells": [
  {
   "cell_type": "code",
   "execution_count": 8,
   "metadata": {},
   "outputs": [],
   "source": [
    "import pandas as pd\n",
    "from sklearn.cluster import KMeans\n",
    "from sklearn.metrics import silhouette_score"
   ]
  },
  {
   "cell_type": "code",
   "execution_count": 9,
   "metadata": {},
   "outputs": [],
   "source": [
    "data = pd.read_csv('8283.csv')"
   ]
  },
  {
   "cell_type": "code",
   "execution_count": 10,
   "metadata": {},
   "outputs": [],
   "source": [
    "df = pd.DataFrame(data)"
   ]
  },
  {
   "cell_type": "code",
   "execution_count": 11,
   "metadata": {},
   "outputs": [],
   "source": [
    "x = df[['Raport']]"
   ]
  },
  {
   "cell_type": "code",
   "execution_count": 12,
   "metadata": {},
   "outputs": [
    {
     "name": "stderr",
     "output_type": "stream",
     "text": [
      "c:\\Users\\LENOVO\\AppData\\Local\\Programs\\Python\\Python310\\lib\\site-packages\\sklearn\\cluster\\_kmeans.py:1416: FutureWarning: The default value of `n_init` will change from 10 to 'auto' in 1.4. Set the value of `n_init` explicitly to suppress the warning\n",
      "  super()._check_params_vs_input(X, default_n_init=10)\n"
     ]
    }
   ],
   "source": [
    "kmeans = KMeans(n_clusters=3, random_state=42)\n",
    "df['Klaster'] = kmeans.fit_predict(x)"
   ]
  },
  {
   "cell_type": "code",
   "execution_count": 13,
   "metadata": {},
   "outputs": [],
   "source": [
    "score = silhouette_score(x, df['Klaster'])"
   ]
  },
  {
   "cell_type": "code",
   "execution_count": 14,
   "metadata": {},
   "outputs": [
    {
     "name": "stdout",
     "output_type": "stream",
     "text": [
      "Data dengan Klaster :\n",
      "                       Nama  Raport  Klaster\n",
      "0           ABDIEL AFDELINA      78        2\n",
      "1       ADITYA PUTRA ARDANA      65        0\n",
      "2            AHMAD AL FAUZI      73        2\n",
      "3             AMZAR HAMIZAN      65        0\n",
      "4      ANNISA YULIANTI AZRA      65        0\n",
      "..                      ...     ...      ...\n",
      "72    TENGKU ARIELLA KHANSA      65        0\n",
      "73     TIFANY LUSIANA PUTRI      75        2\n",
      "74  ULY CHAROLINA PANJAITAN      89        1\n",
      "75                 VERENYEN      76        2\n",
      "76     WAHYU FAHREZA ISMAIL      73        2\n",
      "\n",
      "[77 rows x 3 columns]\n",
      "\n",
      "Silhouette Score : 0.6653348200855681\n"
     ]
    }
   ],
   "source": [
    "print(\"Data dengan Klaster :\")\n",
    "print(df)\n",
    "print(f\"\\nSilhouette Score : {score}\")"
   ]
  }
 ],
 "metadata": {
  "kernelspec": {
   "display_name": "Python 3",
   "language": "python",
   "name": "python3"
  },
  "language_info": {
   "codemirror_mode": {
    "name": "ipython",
    "version": 3
   },
   "file_extension": ".py",
   "mimetype": "text/x-python",
   "name": "python",
   "nbconvert_exporter": "python",
   "pygments_lexer": "ipython3",
   "version": "3.10.7"
  }
 },
 "nbformat": 4,
 "nbformat_minor": 2
}
